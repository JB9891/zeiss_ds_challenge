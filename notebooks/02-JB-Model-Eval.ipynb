{
 "cells": [
  {
   "cell_type": "markdown",
   "metadata": {},
   "source": [
    "# Notebook to deep dive into results"
   ]
  },
  {
   "cell_type": "code",
   "execution_count": 6,
   "metadata": {},
   "outputs": [],
   "source": [
    "import pandas as pd\n",
    "from src.data_processing import *\n",
    "from src.evaluate import *\n",
    "\n",
    "import pandas as pd\n",
    "import numpy as np\n",
    "import pandas_profiling\n",
    "import sys\n",
    "import os\n",
    "\n",
    "from matplotlib import pyplot as plt\n",
    "\n",
    "%load_ext autoreload\n",
    "%autoreload 2"
   ]
  },
  {
   "cell_type": "markdown",
   "metadata": {},
   "source": [
    "## Check cv and Grid Search results\n",
    "- Note that the pipline of train.py has been run to times\n",
    "- In the second run a less stricly regularized log regression has been trained, because the performance of the log regression in the first run was exactly the same as the dummy classifier "
   ]
  },
  {
   "cell_type": "code",
   "execution_count": 16,
   "metadata": {
    "pycharm": {
     "name": "#%%\n"
    }
   },
   "outputs": [
    {
     "data": {
      "text/html": [
       "<div>\n",
       "<style scoped>\n",
       "    .dataframe tbody tr th:only-of-type {\n",
       "        vertical-align: middle;\n",
       "    }\n",
       "\n",
       "    .dataframe tbody tr th {\n",
       "        vertical-align: top;\n",
       "    }\n",
       "\n",
       "    .dataframe thead th {\n",
       "        text-align: right;\n",
       "    }\n",
       "</style>\n",
       "<table border=\"1\" class=\"dataframe\">\n",
       "  <thead>\n",
       "    <tr style=\"text-align: right;\">\n",
       "      <th></th>\n",
       "      <th>Run ID</th>\n",
       "      <th>Name</th>\n",
       "      <th>Source Type</th>\n",
       "      <th>Source Name</th>\n",
       "      <th>User</th>\n",
       "      <th>Status</th>\n",
       "      <th>best_params</th>\n",
       "      <th>cv_scorer</th>\n",
       "      <th>n_cv_folds</th>\n",
       "      <th>mean_test_score_best</th>\n",
       "      <th>mean_train_score_best</th>\n",
       "      <th>std_test_best</th>\n",
       "      <th>std_train_best</th>\n",
       "    </tr>\n",
       "  </thead>\n",
       "  <tbody>\n",
       "    <tr>\n",
       "      <th>0</th>\n",
       "      <td>63f2830164934b6db3c064754dd3df98</td>\n",
       "      <td>random_forest</td>\n",
       "      <td>LOCAL</td>\n",
       "      <td>train.py</td>\n",
       "      <td>jan</td>\n",
       "      <td>FINISHED</td>\n",
       "      <td>{'max_depth': 32, 'max_features': 4}</td>\n",
       "      <td>precision</td>\n",
       "      <td>4</td>\n",
       "      <td>0.705067</td>\n",
       "      <td>1.00000</td>\n",
       "      <td>0.053356</td>\n",
       "      <td>0.000000</td>\n",
       "    </tr>\n",
       "    <tr>\n",
       "      <th>1</th>\n",
       "      <td>cd3a46e969134e918a083c8907b8ff9c</td>\n",
       "      <td>logistic_regression_L1</td>\n",
       "      <td>LOCAL</td>\n",
       "      <td>train.py</td>\n",
       "      <td>jan</td>\n",
       "      <td>FINISHED</td>\n",
       "      <td>{'logistic__C': 10.0}</td>\n",
       "      <td>precision</td>\n",
       "      <td>4</td>\n",
       "      <td>0.550326</td>\n",
       "      <td>0.73179</td>\n",
       "      <td>0.084215</td>\n",
       "      <td>0.056860</td>\n",
       "    </tr>\n",
       "    <tr>\n",
       "      <th>2</th>\n",
       "      <td>e307461492e740c9965def9c3b5f5cb7</td>\n",
       "      <td>dummy</td>\n",
       "      <td>LOCAL</td>\n",
       "      <td>train.py</td>\n",
       "      <td>jan</td>\n",
       "      <td>FINISHED</td>\n",
       "      <td>{'strategy': 'most_frequent'}</td>\n",
       "      <td>precision</td>\n",
       "      <td>4</td>\n",
       "      <td>0.600091</td>\n",
       "      <td>0.60001</td>\n",
       "      <td>0.017721</td>\n",
       "      <td>0.005971</td>\n",
       "    </tr>\n",
       "    <tr>\n",
       "      <th>3</th>\n",
       "      <td>1b8a992f80a74688bd977e46cf71d78d</td>\n",
       "      <td>random_forest</td>\n",
       "      <td>LOCAL</td>\n",
       "      <td>train.py</td>\n",
       "      <td>jan</td>\n",
       "      <td>FINISHED</td>\n",
       "      <td>{'max_depth': 32, 'max_features': 4}</td>\n",
       "      <td>precision</td>\n",
       "      <td>4</td>\n",
       "      <td>0.705067</td>\n",
       "      <td>1.00000</td>\n",
       "      <td>0.053356</td>\n",
       "      <td>0.000000</td>\n",
       "    </tr>\n",
       "    <tr>\n",
       "      <th>4</th>\n",
       "      <td>cf1af815fe3d478bb060b1d717ea8454</td>\n",
       "      <td>logistic_regression_L1</td>\n",
       "      <td>LOCAL</td>\n",
       "      <td>train.py</td>\n",
       "      <td>jan</td>\n",
       "      <td>FINISHED</td>\n",
       "      <td>{'logistic__C': 0.001}</td>\n",
       "      <td>precision</td>\n",
       "      <td>4</td>\n",
       "      <td>0.600091</td>\n",
       "      <td>0.60001</td>\n",
       "      <td>0.017721</td>\n",
       "      <td>0.005971</td>\n",
       "    </tr>\n",
       "    <tr>\n",
       "      <th>5</th>\n",
       "      <td>ca6fa64c06f0461c8aee69fb11bfb208</td>\n",
       "      <td>dummy</td>\n",
       "      <td>LOCAL</td>\n",
       "      <td>train.py</td>\n",
       "      <td>jan</td>\n",
       "      <td>FINISHED</td>\n",
       "      <td>{'strategy': 'most_frequent'}</td>\n",
       "      <td>precision</td>\n",
       "      <td>4</td>\n",
       "      <td>0.600091</td>\n",
       "      <td>0.60001</td>\n",
       "      <td>0.017721</td>\n",
       "      <td>0.005971</td>\n",
       "    </tr>\n",
       "  </tbody>\n",
       "</table>\n",
       "</div>"
      ],
      "text/plain": [
       "                             Run ID                    Name Source Type  \\\n",
       "0  63f2830164934b6db3c064754dd3df98           random_forest       LOCAL   \n",
       "1  cd3a46e969134e918a083c8907b8ff9c  logistic_regression_L1       LOCAL   \n",
       "2  e307461492e740c9965def9c3b5f5cb7                   dummy       LOCAL   \n",
       "3  1b8a992f80a74688bd977e46cf71d78d           random_forest       LOCAL   \n",
       "4  cf1af815fe3d478bb060b1d717ea8454  logistic_regression_L1       LOCAL   \n",
       "5  ca6fa64c06f0461c8aee69fb11bfb208                   dummy       LOCAL   \n",
       "\n",
       "  Source Name User    Status                           best_params  cv_scorer  \\\n",
       "0    train.py  jan  FINISHED  {'max_depth': 32, 'max_features': 4}  precision   \n",
       "1    train.py  jan  FINISHED                 {'logistic__C': 10.0}  precision   \n",
       "2    train.py  jan  FINISHED         {'strategy': 'most_frequent'}  precision   \n",
       "3    train.py  jan  FINISHED  {'max_depth': 32, 'max_features': 4}  precision   \n",
       "4    train.py  jan  FINISHED                {'logistic__C': 0.001}  precision   \n",
       "5    train.py  jan  FINISHED         {'strategy': 'most_frequent'}  precision   \n",
       "\n",
       "   n_cv_folds  mean_test_score_best  mean_train_score_best  std_test_best  \\\n",
       "0           4              0.705067                1.00000       0.053356   \n",
       "1           4              0.550326                0.73179       0.084215   \n",
       "2           4              0.600091                0.60001       0.017721   \n",
       "3           4              0.705067                1.00000       0.053356   \n",
       "4           4              0.600091                0.60001       0.017721   \n",
       "5           4              0.600091                0.60001       0.017721   \n",
       "\n",
       "   std_train_best  \n",
       "0        0.000000  \n",
       "1        0.056860  \n",
       "2        0.005971  \n",
       "3        0.000000  \n",
       "4        0.005971  \n",
       "5        0.005971  "
      ]
     },
     "execution_count": 16,
     "metadata": {},
     "output_type": "execute_result"
    }
   ],
   "source": [
    "# Read logged metrics and parameters from csv export of mlflow ui\n",
    "run_results = pd.read_csv('runs.csv', sep=',')\n",
    "run_results"
   ]
  },
  {
   "cell_type": "markdown",
   "metadata": {},
   "source": [
    "## Deep Dive into Logistic Regression"
   ]
  },
  {
   "cell_type": "code",
   "execution_count": 12,
   "metadata": {},
   "outputs": [],
   "source": [
    "# Load regression models\n",
    "\n",
    "# Path to stricly regularized model (can be found directly on mlflow ui)\n",
    "path_log_strict = \"../src/mlruns/0/cf1af815fe3d478bb060b1d717ea8454/artifacts/sk-learn-zeiss_cc-logistic_regression_L1\"\n",
    "\n",
    "# Load stricly regularized log regression\n",
    "log_strict = get_logged_model(path_log_strict)\n",
    "\n",
    "# Path to moderate regularized model (can be found directly on mlflow ui)\n",
    "path_log_moderate = \"../src/mlruns/0/cd3a46e969134e918a083c8907b8ff9c/artifacts/sk-learn-zeiss_cc-logistic_regression_L1\"\n",
    "\n",
    "# Load stricly regularized log regression\n",
    "log_moderate = get_logged_model(path_log_moderate)\n"
   ]
  },
  {
   "cell_type": "code",
   "execution_count": 13,
   "metadata": {},
   "outputs": [
    {
     "name": "stdout",
     "output_type": "stream",
     "text": [
      "Feature q_OpeningHours: 0.0\n",
      "Feature q_2017 Total Households: 0.0\n",
      "Feature q_2017 Purchasing Power: Per Capita: 0.0\n",
      "Feature q_2017 Medical Products: Per Capita: 0.0\n",
      "Feature q_5th Quint by Total HH: 0.0\n",
      "Feature b_specialisation_i: 0.0\n",
      "Feature b_specialisation_h: 0.0\n",
      "Feature b_specialisation_g: 0.0\n",
      "Feature b_specialisation_f: 0.0\n",
      "Feature b_specialisation_e: 0.0\n",
      "Feature b_specialisation_d: 0.0\n",
      "Feature b_specialisation_c: 0.0\n",
      "Feature b_specialisation_b: 0.0\n",
      "Feature b_specialisation_a: 0.0\n",
      "Feature b_specialisation_j: 0.0\n"
     ]
    },
    {
     "data": {
      "image/png": "[encoded data removed]",
      "text/plain": [
       "<Figure size 432x288 with 1 Axes>"
      ]
     },
     "metadata": {
      "needs_background": "light"
     },
     "output_type": "display_data"
    }
   ],
   "source": [
    "create_coeff_plot(log_strict)"
   ]
  },
  {
   "cell_type": "code",
   "execution_count": 14,
   "metadata": {
    "pycharm": {
     "name": "#%%\n"
    }
   },
   "outputs": [
    {
     "name": "stdout",
     "output_type": "stream",
     "text": [
      "Feature q_OpeningHours: -0.15642697895502425\n",
      "Feature q_2017 Total Households: 0.48727899421874493\n",
      "Feature q_2017 Purchasing Power: Per Capita: 0.042468479168664364\n",
      "Feature q_2017 Medical Products: Per Capita: -0.10373146509728175\n",
      "Feature q_5th Quint by Total HH: -0.2626243836963123\n",
      "Feature b_specialisation_i: 0.40631094053942274\n",
      "Feature b_specialisation_h: -0.6902401278985415\n",
      "Feature b_specialisation_g: -0.6382952347540745\n",
      "Feature b_specialisation_f: 0.039380061589358736\n",
      "Feature b_specialisation_e: -0.23363615453300057\n",
      "Feature b_specialisation_d: 1.5280353966455054\n",
      "Feature b_specialisation_c: -0.2376279111741409\n",
      "Feature b_specialisation_b: 3.780608749645128\n",
      "Feature b_specialisation_a: -0.06347415257832455\n",
      "Feature b_specialisation_j: 0.12858053826253277\n"
     ]
    },
    {
     "data": {
      "image/png": "[encoded data removed]",
      "text/plain": [
       "<Figure size 432x288 with 1 Axes>"
      ]
     },
     "metadata": {
      "needs_background": "light"
     },
     "output_type": "display_data"
    }
   ],
   "source": [
    "create_coeff_plot(log_moderate)"
   ]
  },
  {
   "cell_type": "markdown",
   "metadata": {},
   "source": [
    "## Insights\n",
    "- The RandomForest created on average the best score on the test sets --> smallest bias --> but highest complexity \n",
    "- The RandomForest has high variance in between the prediction of the k-fold test sets and in the test set compared to the training  \n",
    "- Do to the fact that I did not have a seperate hold-out validation set it might be possible that the RandomForest overfitted the training data of the cross validation\n",
    "\n",
    "- Suprisingly the on average best logistic regression model on the test set was the heabvily regularized model --> which exactly created the same results as the DummyClassifier and thus only predicting the most frequent (true) class.\n",
    "- Due to fact that the best model has been the model shrinking all features paramters to zero is quite interesting. It could be concluded that with the provided data it is very hard to build a classifier with good generalization capability and a good predictive power.  \n",
    "\n",
    "### Potential Next steps\n",
    "- It probably would make sense to prodctionalize any classifier at this stage, beacause even the RandomForest classifier performs weakly and is expected to gerneralize not very well\n",
    "- Talk to expert and collect more / other data --> to deal with high variance of complexer classifier\n",
    "- If sample size is still small, but petter classifiers are found --> try semisupervised learning"
   ]
  },
  {
   "cell_type": "code",
   "execution_count": null,
   "metadata": {},
   "outputs": [],
   "source": []
  }
 ],
 "metadata": {
  "kernelspec": {
   "display_name": "zeiss_cc",
   "language": "python",
   "name": "zeiss_cc"
  },
  "language_info": {
   "codemirror_mode": {
    "name": "ipython",
    "version": 3
   },
   "file_extension": ".py",
   "mimetype": "text/x-python",
   "name": "python",
   "nbconvert_exporter": "python",
   "pygments_lexer": "ipython3",
   "version": "3.8.10"
  }
 },
 "nbformat": 4,
 "nbformat_minor": 1
}